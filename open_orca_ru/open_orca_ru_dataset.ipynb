{
 "cells": [
  {
   "cell_type": "code",
   "execution_count": 20,
   "metadata": {},
   "outputs": [
    {
     "name": "stderr",
     "output_type": "stream",
     "text": [
      "Resolving data files: 100%|██████████| 24/24 [00:01<00:00, 23.04it/s]\n",
      "Downloading data files: 100%|██████████| 1/1 [00:00<00:00, 773.00it/s]\n",
      "Extracting data files: 100%|██████████| 1/1 [00:00<00:00,  1.08it/s]\n",
      "Generating train split: 100%|██████████| 4233923/4233923 [00:41<00:00, 101978.06 examples/s]\n"
     ]
    }
   ],
   "source": [
    "from datasets import load_dataset\n",
    "\n",
    "dataset = load_dataset(\"d0rj/OpenOrca-ru\")\n",
    "dataset = dataset[\"train\"]"
   ]
  },
  {
   "cell_type": "code",
   "execution_count": 21,
   "metadata": {},
   "outputs": [
    {
     "data": {
      "text/plain": [
       "Dataset({\n",
       "    features: ['id', 'system_prompt', 'question', 'response'],\n",
       "    num_rows: 4233923\n",
       "})"
      ]
     },
     "execution_count": 21,
     "metadata": {},
     "output_type": "execute_result"
    }
   ],
   "source": [
    "dataset"
   ]
  },
  {
   "cell_type": "code",
   "execution_count": 11,
   "metadata": {},
   "outputs": [
    {
     "data": {
      "text/plain": [
       "819045"
      ]
     },
     "execution_count": 11,
     "metadata": {},
     "output_type": "execute_result"
    }
   ],
   "source": [
    "len(set(dataset[\"id\"]))"
   ]
  },
  {
   "cell_type": "code",
   "execution_count": null,
   "metadata": {},
   "outputs": [],
   "source": [
    "def fix_text(text: str):\n",
    "    text = text.replace(\"Отвечать:\", \"Ответ:\")\n",
    "    return text\n",
    "\n",
    "\n",
    "for i, item in enumerate(dataset):\n",
    "    if i > 10000:\n",
    "        break\n",
    "    print(\n",
    "        f\"\"\"\n",
    "{fix_text(item['system_prompt'])}\n",
    "{fix_text(item['question'])}\n",
    "{fix_text(item['response'])}\n",
    "\"\"\"\n",
    "    )\n",
    "print(\"=\" * 10)\n",
    "print(\"=\" * 10)\n",
    "print(\"=\" * 10)"
   ]
  },
  {
   "cell_type": "code",
   "execution_count": 2,
   "metadata": {},
   "outputs": [
    {
     "name": "stderr",
     "output_type": "stream",
     "text": [
      "/opt/conda/lib/python3.10/site-packages/tqdm/auto.py:21: TqdmWarning: IProgress not found. Please update jupyter and ipywidgets. See https://ipywidgets.readthedocs.io/en/stable/user_install.html\n",
      "  from .autonotebook import tqdm as notebook_tqdm\n"
     ]
    }
   ],
   "source": [
    "from datasets import load_dataset\n",
    "\n",
    "dataset_gpt4 = load_dataset(\"openaccess-ai-collective/oo-gpt4-filtered\")\n",
    "dataset_gpt4 = dataset_gpt4[\"train\"]"
   ]
  },
  {
   "cell_type": "code",
   "execution_count": 3,
   "metadata": {},
   "outputs": [
    {
     "data": {
      "text/plain": [
       "819045"
      ]
     },
     "execution_count": 3,
     "metadata": {},
     "output_type": "execute_result"
    }
   ],
   "source": [
    "len(dataset_gpt4[\"id\"])"
   ]
  },
  {
   "cell_type": "code",
   "execution_count": 4,
   "metadata": {},
   "outputs": [],
   "source": [
    "gpt4_ids = set(dataset_gpt4[\"id\"])"
   ]
  },
  {
   "cell_type": "code",
   "execution_count": 5,
   "metadata": {},
   "outputs": [
    {
     "data": {
      "text/plain": [
       "819045"
      ]
     },
     "execution_count": 5,
     "metadata": {},
     "output_type": "execute_result"
    }
   ],
   "source": [
    "len(gpt4_ids)"
   ]
  },
  {
   "cell_type": "code",
   "execution_count": 6,
   "metadata": {},
   "outputs": [
    {
     "name": "stderr",
     "output_type": "stream",
     "text": [
      "Downloading readme: 100%|██████████| 12.0k/12.0k [00:00<00:00, 30.2MB/s]\n",
      "Downloading data: 100%|██████████| 1.01G/1.01G [00:31<00:00, 32.0MB/s]\n",
      "Downloading data: 100%|██████████| 3.09G/3.09G [01:20<00:00, 38.4MB/s]\n",
      "Downloading data files: 100%|██████████| 1/1 [01:52<00:00, 112.03s/it]\n",
      "Extracting data files: 100%|██████████| 1/1 [00:00<00:00, 142.86it/s]\n",
      "Generating train split: 4233923 examples [00:16, 261404.02 examples/s]\n"
     ]
    }
   ],
   "source": [
    "open_orca_dataset = load_dataset(\"Open-Orca/OpenOrca\")"
   ]
  },
  {
   "cell_type": "code",
   "execution_count": 9,
   "metadata": {},
   "outputs": [
    {
     "data": {
      "text/plain": [
       "Dataset({\n",
       "    features: ['id', 'system_prompt', 'question', 'response'],\n",
       "    num_rows: 1572159\n",
       "})"
      ]
     },
     "execution_count": 9,
     "metadata": {},
     "output_type": "execute_result"
    }
   ],
   "source": [
    "open_orca_dataset_filtered = open_orca_dataset.filter(lambda x: x[\"id\"] in gpt4_ids, num_proc=10)\n",
    "open_orca_dataset_filtered = open_orca_dataset_filtered['train']\n",
    "open_orca_dataset_filtered"
   ]
  },
  {
   "cell_type": "code",
   "execution_count": 10,
   "metadata": {},
   "outputs": [
    {
     "name": "stdout",
     "output_type": "stream",
     "text": [
      "{'id': 'niv.242684', 'system_prompt': '', 'question': \"You will be given a definition of a task first, then some input of the task.\\nThis task is about using the specified sentence and converting the sentence to Resource Description Framework (RDF) triplets of the form (subject, predicate object). The RDF triplets generated must be such that the triplets accurately capture the structure and semantics of the input sentence. The input is a sentence and the output is a list of triplets of the form [subject, predicate, object] that capture the relationships present in the sentence. When a sentence has more than 1 RDF triplet possible, the output must contain all of them.\\n\\nAFC Ajax (amateurs)'s ground is Sportpark De Toekomst where Ajax Youth Academy also play.\\nOutput:\", 'response': '[\\n  [\"AFC Ajax (amateurs)\", \"has ground\", \"Sportpark De Toekomst\"],\\n  [\"Ajax Youth Academy\", \"plays at\", \"Sportpark De Toekomst\"]\\n]'}\n",
      "{'id': 'niv.242684', 'system_prompt': '', 'question': \"You will be given a definition of a task first, then some input of the task.\\nThis task is about using the specified sentence and converting the sentence to Resource Description Framework (RDF) triplets of the form (subject, predicate object). The RDF triplets generated must be such that the triplets accurately capture the structure and semantics of the input sentence. The input is a sentence and the output is a list of triplets of the form [subject, predicate, object] that capture the relationships present in the sentence. When a sentence has more than 1 RDF triplet possible, the output must contain all of them.\\n\\nAFC Ajax (amateurs)'s ground is Sportpark De Toekomst where Ajax Youth Academy also play.\\nOutput:\", 'response': '[\\n  (\"AFC Ajax (amateurs)\", \"has ground\", \"Sportpark De Toekomst\"),\\n  (\"Sportpark De Toekomst\", \"is used by\", \"Ajax Youth Academy\")\\n]'}\n"
     ]
    }
   ],
   "source": [
    "selected_id = open_orca_dataset_filtered['id'][0]\n",
    "for item in open_orca_dataset_filtered:\n",
    "    if item['id'] == selected_id:\n",
    "        print(item)"
   ]
  },
  {
   "cell_type": "code",
   "execution_count": 11,
   "metadata": {},
   "outputs": [
    {
     "name": "stdout",
     "output_type": "stream",
     "text": [
      "{'id': 't0.513808', 'system_prompt': 'You are an AI assistant that follows instruction extremely well. Help as much as you can.', 'question': \"Given the question: I'm taking a test and have to guess the right answer to the question after the article. Article: Winter is dangerous because it's so difficult to know what is going to happen and accidents take place so easily. Fog can be waiting to meet you over the top of a hill. Ice might be hiding under the melting snow, waiting ahead to send you off the road. The car coming to you may suddenly slip across the road. Rule Number One for driving on icy roads is to drive smoothly . Sudden movements can make a car very difficult to control. So every time you either start or stop your car, increase or reduce your speed, you must be as gentle and slow as possible. Suppose you are driving with a full cup of hot coffee on the seat next to you. Drive so that you wouldn't spill  it. Rule Number Two is to pay attention to what might happen. The more ice there is, the further down the road you have to look. Test how long it takes to gently stop your car. Remember that you may be driving more quickly than you think. Generally, allow twice of your usual stopping distance when the road is wet, three times this distance on snow, and even more on ice. Try to stay in control of your car at all times and you will not get into trouble. Question: The writer tries to  _  in this passage. Options: A: show his dislikes about bad winter weather B: give information about winter weather C: ask people not to drive in winter D: advise people about safe driving in winter\\nThe answer is:\", 'response': 'D: advise people about safe driving in winter'}\n",
      "{'id': 't0.513808', 'system_prompt': 'You are an AI assistant. You will be given a task. You must generate a detailed and long answer.', 'question': 'Please answer the following question: Process:  - The saliva breaks down the chemicals in the food a bit, which helps make the food mushy and easy to swallow - Your tongue helps out, pushing the food around while you chew with your teeth - The esophagus moves food from the back of your throat to your stomach - Strong muscles in the walls of the stomach and gastric juices break down food in your stomach - Your stomach moves the food into the intestines to complete digestion -   Perturbation hypothesis: suppose there is more magma that explodes happens, how will it affect MORE digestion occuring.  Does the supposed perturbation have an effect (direct or indirect) on the process?\\nAnswer:', 'response': 'The process of digestion is a complex and intricate process that involves various organs and systems in the body. The process begins in the mouth, where the saliva breaks down the chemicals in the food, making it mushy and easy to swallow. The tongue then helps in pushing the food around while the teeth chew it. The food is then moved from the back of the throat to the stomach through the esophagus.\\n\\nOnce the food reaches the stomach, strong muscles in the walls of the stomach and gastric juices break down the food further. The stomach then moves the food into the intestines to complete digestion. The intestines absorb the nutrients from the food, and the waste products are eliminated from the body.\\n\\nThe perturbation hypothesis suggests that if there is more magma that explodes, it may have an indirect effect on the process of digestion. This is because the eruption of magma can cause environmental changes that may affect the availability of food and water. This, in turn, can affect the digestive process.\\n\\nFor example, if the eruption of magma causes a disruption in the water supply, it can lead to dehydration, which can affect the production of saliva and gastric juices. This can slow down the process of digestion and lead to digestive problems such as constipation.\\n\\nSimilarly, if the eruption of magma causes a disruption in the food supply, it can lead to malnutrition, which can affect the absorption of nutrients in the intestines. This can lead to various health problems, including digestive disorders.\\n\\nIn conclusion, the perturbation hypothesis suggests that the eruption of magma can have an indirect effect on the process of digestion by causing environmental changes that can affect the availability of food and water. This can lead to various digestive problems and health issues.'}\n"
     ]
    }
   ],
   "source": [
    "selected_id = open_orca_dataset_filtered['id'][100]\n",
    "for item in open_orca_dataset_filtered:\n",
    "    if item['id'] == selected_id:\n",
    "        print(item)"
   ]
  },
  {
   "cell_type": "code",
   "execution_count": 13,
   "metadata": {},
   "outputs": [
    {
     "name": "stdout",
     "output_type": "stream",
     "text": [
      "{'id': 'flan.993981', 'system_prompt': 'You are a helpful assistant, who always provide explanation. Think like you are answering to a five year old.', 'question': 'Determine the sentiment:\\n\\nWe viewed the vcr and found it to be fascinating. Not knowing anything about this true story, I thought: \"Oh, no, P.Brosnan as an American Indian (\\'red\\' Indian in the film), what a bad choice\" until I discovered the truth about Grey Owl. The film does a good job of demonstrating the dignity of these native peoples and undermining the racist myths about them. And Annie Galipeau, WOW, what a beauty, and very convincing as an Indian woman (I believe she is French-Canadian; she sure reverts to the all-too familiar speech of such). In spite, of Brosnan\\'s detached, grunting style, in the end he comes through convincingly as a passionate, dedicated man. The plot is a little weak in demostrating his conversion from trapper to animal coservationist. Good film, highly recommended.', 'response': \"This is a positive sentiment. The person might have had some doubts at the beginning, especially about P. Brosnan playing an American Indian, but in the end, they found the film fascinating and very good. They enjoyed the performances of the actors, especially Annie Galipeau, and appreciated the movie's portrayal of native peoples. Even though they thought the plot could have done a better job showing the character's change from a trapper to an animal conservationist, they still highly recommend the film. It's like when you try a new flavor of ice cream, even if you weren't sure about it at first, you end up really liking it and want your friends to try it too!\"}\n",
      "{'id': 'flan.993981', 'system_prompt': 'You are a helpful assistant, who always provide explanation. Think like you are answering to a five year old.', 'question': 'Determine the sentiment:\\n\\nWe viewed the vcr and found it to be fascinating. Not knowing anything about this true story, I thought: \"Oh, no, P.Brosnan as an American Indian (\\'red\\' Indian in the film), what a bad choice\" until I discovered the truth about Grey Owl. The film does a good job of demonstrating the dignity of these native peoples and undermining the racist myths about them. And Annie Galipeau, WOW, what a beauty, and very convincing as an Indian woman (I believe she is French-Canadian; she sure reverts to the all-too familiar speech of such). In spite, of Brosnan\\'s detached, grunting style, in the end he comes through convincingly as a passionate, dedicated man. The plot is a little weak in demostrating his conversion from trapper to animal coservationist. Good film, highly recommended.', 'response': \"The sentiment of the text is positive. The author enjoyed watching the film and found it fascinating. They were initially skeptical about Pierce Brosnan's casting as an American Indian, but were impressed with the film's portrayal of native peoples and the debunking of racist myths. The author also praises the performance of Annie Galipeau and Brosnan's portrayal of a passionate and dedicated man. Overall, the author recommends the film.\"}\n"
     ]
    }
   ],
   "source": [
    "# selected_id = open_orca_dataset_filtered['id'][101]\n",
    "selected_id = \"flan.993981\"\n",
    "for item in open_orca_dataset_filtered:\n",
    "    if item['id'] == selected_id:\n",
    "        print(item)"
   ]
  },
  {
   "cell_type": "code",
   "execution_count": 16,
   "metadata": {},
   "outputs": [],
   "source": [
    "selected_id = \"t0.793220\"\n",
    "test = open_orca_dataset.filter(lambda x: x[\"id\"] == selected_id, num_proc=10)\n",
    "test = test['train']"
   ]
  },
  {
   "cell_type": "code",
   "execution_count": 17,
   "metadata": {},
   "outputs": [
    {
     "data": {
      "text/plain": [
       "{'id': 't0.793220',\n",
       " 'system_prompt': 'You are an AI assistant that follows instruction extremely well. Help as much as you can.',\n",
       " 'question': \"Please answer the following question: Read the following paragraph and extract the answer for the question: What gender of the Perijá tapaculo have brown on the back of their legs and whitish on the front?  The Perijá tapaculo is a small bird, 10 to 12 cm (3.9 to 4.7 in) in length with an average mass of 17 to 18 grams (around 0.6 oz). The bill averages 6.8 millimetres (0.27 inches) long, 2.9 mm (0.11 in) wide, and 3.5 mm (0.14 in) high. The legs are about 21 mm (0.83 in) long. The Perijá tapaculo's tarsus averages 21.1 millimetres (0.83 in) long. The wings measure 57.4 mm (2.26 in) on average and the tail is about 40 mm (1.6 in) long with between 8 and 12 rectrices.The forehead, lores, crown, mantle, and scapular area are a neutral grey colour. There is a brown spot on the nape. The top of the tail is brown, and the bottom is faintly striped brown. The bird's back and rump are striped brown-sepia, and the throat, breast, and belly are grey-white. Its lower belly and flanks are tawny. The iris is dark brown. Male specimens are distinguished by having less sharp brown spots on their napes, and the bottom of their breasts are mixed with a pale buff colour. The legs are brown on the back and whitish on the front. Young birds have a yellowish appearance with striped brown flanks.The bird's plumage colouration is most similar to the pale-bellied tapaculo. The S. g. morenoi subspecies of the pale-bellied tapaculo can be differentiated from the Perijá tapaculo by its entirely brown back and nape, and its different calls. Juveniles of this subspecies have a dull ventral plumage, while the Perijá tapaculo has a more yellow plumage. It also resembles the Caracas tapaculo but has a duller ventral colour.\\nA:\",\n",
       " 'response': 'Male specimens of the Perijá tapaculo have brown on the back of their legs and whitish on the front.'}"
      ]
     },
     "execution_count": 17,
     "metadata": {},
     "output_type": "execute_result"
    }
   ],
   "source": [
    "test[0]"
   ]
  },
  {
   "cell_type": "code",
   "execution_count": 18,
   "metadata": {},
   "outputs": [
    {
     "data": {
      "text/plain": [
       "{'id': 't0.793220',\n",
       " 'system_prompt': '',\n",
       " 'question': 'I read this background article the other day: Often, foreign exchange controls can result in the creation of black markets to exchange the weaker currency for stronger currencies. This leads to a situation where the exchange rate for the foreign currency is much higher than the rate set by the government, and therefore creates a shadow currency exchange market. As such, it is unclear whether governments have the ability to enact effective exchange controls.[1]  I am facing a new situation today: On March 2015 Japans economy soared. There was a likelihood that the Japanese yen would rise in value. In the wake of this event, Japanese Government adjusted  the price of Japanese Currency Yen in accordance with the going market price. On the other hand, at he same time, UK was having economic downturn. There was a likelihood that the UK Currency Pound Sterling would go down. Fearing public backlash, UK Government kept the price of the Pound Sterling at the same level.  Using the knowledge I acquired from the background article, how should I answer correctly the following question regarding my new situation: Which country would most likely not see a formation of shadow currency exchange market, Japan or UK?\\n',\n",
       " 'response': 'Japan would most likely not see a formation of shadow currency exchange market as the government adjusted the price of the Japanese yen in accordance with the going market price. On the other hand, the UK government kept the price of the Pound Sterling at the same level despite the economic downturn, which could lead to the creation of a black market for currency exchange.'}"
      ]
     },
     "execution_count": 18,
     "metadata": {},
     "output_type": "execute_result"
    }
   ],
   "source": [
    "test[1]"
   ]
  },
  {
   "cell_type": "code",
   "execution_count": null,
   "metadata": {},
   "outputs": [],
   "source": [
    "selected_id = \"t0.793220\"\n",
    "test = dataset.filter(lambda x: x[\"id\"] == selected_id, num_proc=10)\n"
   ]
  },
  {
   "cell_type": "code",
   "execution_count": 23,
   "metadata": {},
   "outputs": [
    {
     "data": {
      "text/plain": [
       "{'id': 't0.793220',\n",
       " 'system_prompt': 'Вы помощник ИИ, который очень хорошо следует инструкциям. Помогите, чем сможете.',\n",
       " 'question': 'Пожалуйста, ответьте на следующий вопрос: Прочтите следующий абзац и извлеките ответ на вопрос: У какого пола Perijá tapaculo задняя часть ног коричневая, а передняя беловатая? Perijá tapaculo — это небольшая птица длиной от 10 до 12 см (от 3,9 до 4,7 дюйма) и средней массой от 17 до 18 граммов (около 0,6 унции). Клюв в среднем имеет длину 6,8 мм (0,27 дюйма), ширину 2,9 мм (0,11 дюйма) и высоту 3,5 мм (0,14 дюйма). Ноги имеют длину около 21 мм (0,83 дюйма). Предплюсна тапакуло Perijá в среднем имеет длину 21,1 миллиметра (0,83 дюйма). Крылья в среднем имеют длину 57,4 мм (2,26 дюйма), а длина хвоста составляет около 40 мм (1,6 дюйма) с от 8 до 12 прямоугольников. Лоб, уздечка, макушка, мантия и лопаточная область нейтрального серого цвета. На затылке имеется коричневое пятно. Верх хвоста коричневый, а низ коричневый с едва заметными полосами. Спина и круп птицы имеют полосатый коричнево-сепийский окрас, а горло, грудь и живот серо-белые. Его нижняя часть живота и бока желтовато-коричневые. Радужка темно-коричневая. Самцы отличаются менее резкими коричневыми пятнами на затылке, а нижняя часть груди имеет смешанный бледно-желтый цвет. Ноги коричневые сзади и беловатые спереди. Молодые птицы имеют желтоватый вид с полосатыми коричневыми боками. Окраска оперения птицы больше всего похожа на бледнобрюхого тапакуло. С. г. Подвид morenoi бледнобрюхого тапакуло можно отличить от Perijá tapaculo по полностью коричневой спине и затылку, а также по другим крикам. У молодых особей этого подвида тусклое брюшное оперение, а у Perijá tapaculo оперение более желтое. Он также напоминает тапакуло из Каракаса, но имеет более тусклый вентральный цвет.\\nА:',\n",
       " 'response': 'У самцов Perijá tapaculo задняя часть ног коричневая, а передняя часть беловатая.'}"
      ]
     },
     "execution_count": 23,
     "metadata": {},
     "output_type": "execute_result"
    }
   ],
   "source": [
    "test[0]"
   ]
  },
  {
   "cell_type": "code",
   "execution_count": 24,
   "metadata": {},
   "outputs": [
    {
     "data": {
      "text/plain": [
       "{'id': 't0.793220',\n",
       " 'system_prompt': '',\n",
       " 'question': 'На днях я прочитал эту справочную статью: Часто валютный контроль может привести к созданию черных рынков для обмена более слабой валюты на более сильную валюту. Это приводит к ситуации, когда обменный курс иностранной валюты намного превышает курс, установленный государством, и, следовательно, создает теневой рынок обмена валюты. Таким образом, неясно, имеют ли правительства возможность ввести эффективный валютный контроль.[1] Сегодня я столкнулся с новой ситуацией: в марте 2015 года экономика Японии резко выросла. Существовала вероятность того, что японская иена вырастет в цене. После этого события правительство Японии скорректировало цену японской валютной иены в соответствии с текущей рыночной ценой. С другой стороны, в то же время в Великобритании наблюдался экономический спад. Существовала вероятность того, что британский фунт стерлингов упадет. Опасаясь негативной реакции общественности, правительство Великобритании сохранило цену фунта стерлингов на прежнем уровне. Используя знания, которые я получил из справочной статьи, как мне правильно ответить на следующий вопрос относительно моей новой ситуации: в какой стране, скорее всего, не будет формирования теневого валютного рынка, Японии или Великобритании?',\n",
       " 'response': 'Япония, скорее всего, не увидит формирования теневого валютного рынка, поскольку правительство скорректировало цену японской иены в соответствии с текущей рыночной ценой. С другой стороны, правительство Великобритании сохранило цену фунта стерлингов на прежнем уровне, несмотря на экономический спад, что могло привести к созданию черного рынка обмена валюты.'}"
      ]
     },
     "execution_count": 24,
     "metadata": {},
     "output_type": "execute_result"
    }
   ],
   "source": [
    "test[1]"
   ]
  },
  {
   "cell_type": "code",
   "execution_count": null,
   "metadata": {},
   "outputs": [],
   "source": [
    "selected_id = \"t0.793220\"\n",
    "for item in open_orca_dataset_filtered:\n",
    "    if item['id'] == selected_id:\n",
    "        print(item)"
   ]
  },
  {
   "cell_type": "code",
   "execution_count": 5,
   "metadata": {},
   "outputs": [
    {
     "name": "stderr",
     "output_type": "stream",
     "text": [
      "Filter (num_proc=10): 100%|██████████| 4233923/4233923 [00:05<00:00, 741412.09 examples/s]\n"
     ]
    }
   ],
   "source": [
    "dataset = dataset.filter(lambda x: x[\"id\"] in gpt4_ids, num_proc=10)"
   ]
  },
  {
   "cell_type": "code",
   "execution_count": 6,
   "metadata": {},
   "outputs": [
    {
     "data": {
      "text/plain": [
       "Dataset({\n",
       "    features: ['id', 'system_prompt', 'question', 'response'],\n",
       "    num_rows: 1572159\n",
       "})"
      ]
     },
     "execution_count": 6,
     "metadata": {},
     "output_type": "execute_result"
    }
   ],
   "source": [
    "dataset"
   ]
  },
  {
   "cell_type": "code",
   "execution_count": 9,
   "metadata": {},
   "outputs": [
    {
     "name": "stderr",
     "output_type": "stream",
     "text": [
      "100%|██████████| 1572159/1572159 [02:30<00:00, 10442.14it/s]\n"
     ]
    }
   ],
   "source": [
    "from tqdm import tqdm\n",
    "\n",
    "new_dataset = {}\n",
    "for item in tqdm(dataset):\n",
    "    item_id = item[\"id\"]\n",
    "    if not item_id in new_dataset:\n",
    "        new_dataset[item_id] = item"
   ]
  },
  {
   "cell_type": "code",
   "execution_count": 10,
   "metadata": {},
   "outputs": [
    {
     "data": {
      "text/plain": [
       "819045"
      ]
     },
     "execution_count": 10,
     "metadata": {},
     "output_type": "execute_result"
    }
   ],
   "source": [
    "len(new_dataset)"
   ]
  },
  {
   "cell_type": "code",
   "execution_count": 11,
   "metadata": {},
   "outputs": [],
   "source": [
    "dataset = list(new_dataset.values())"
   ]
  },
  {
   "cell_type": "code",
   "execution_count": 12,
   "metadata": {},
   "outputs": [
    {
     "data": {
      "text/plain": [
       "{'id': 'niv.242684',\n",
       " 'system_prompt': '',\n",
       " 'question': 'Сначала вам будет дано определение задачи, а затем некоторый ввод задачи.\\nЭта задача связана с использованием указанного предложения и преобразованием предложения в триплеты структуры описания ресурсов (RDF) в форме (подлежащее, предикатный объект). Сгенерированные триплеты RDF должны быть такими, чтобы триплеты точно отображали структуру и семантику входного предложения. Входные данные представляют собой предложение, а выходные данные представляют собой список триплетов формы [подлежащее, сказуемое, дополнение], которые фиксируют отношения, присутствующие в предложении. Когда в предложении может быть более 1 триплета RDF, выходные данные должны содержать их все.\\n\\nСтадион AFC Ajax (любители) - Sportpark De Toekomst, где также играет Молодежная академия Ajax.\\nВыход:',\n",
       " 'response': '[\\n  [\"Аякс (любители)\", \"Земля\", \"Спортпарк Де Тоэкомст\"],\\n  [«Молодежная академия Аякса», «играет в», «Sportpark De Toekomst»]\\n]'}"
      ]
     },
     "execution_count": 12,
     "metadata": {},
     "output_type": "execute_result"
    }
   ],
   "source": [
    "dataset[0]"
   ]
  },
  {
   "cell_type": "code",
   "execution_count": 13,
   "metadata": {},
   "outputs": [
    {
     "data": {
      "text/plain": [
       "Dataset({\n",
       "    features: ['id', 'system_prompt', 'question', 'response'],\n",
       "    num_rows: 819045\n",
       "})"
      ]
     },
     "execution_count": 13,
     "metadata": {},
     "output_type": "execute_result"
    }
   ],
   "source": [
    "from datasets import Dataset\n",
    "\n",
    "correct_dataset = Dataset.from_list(dataset)\n",
    "correct_dataset"
   ]
  },
  {
   "cell_type": "code",
   "execution_count": 14,
   "metadata": {},
   "outputs": [
    {
     "name": "stderr",
     "output_type": "stream",
     "text": [
      "Creating parquet from Arrow format: 100%|██████████| 164/164 [00:01<00:00, 95.06ba/s]\n",
      "Creating parquet from Arrow format: 100%|██████████| 164/164 [00:01<00:00, 103.19ba/s]\n",
      "Creating parquet from Arrow format: 100%|██████████| 164/164 [00:01<00:00, 93.18ba/s]\n",
      "Creating parquet from Arrow format: 100%|██████████| 164/164 [00:01<00:00, 101.10ba/s]\n",
      "Creating parquet from Arrow format: 100%|██████████| 164/164 [00:01<00:00, 100.13ba/s]\n",
      "Uploading the dataset shards: 100%|██████████| 5/5 [03:12<00:00, 38.49s/it]\n"
     ]
    }
   ],
   "source": [
    "correct_dataset.push_to_hub('dim/OpenOrca-ru-gpt4')"
   ]
  },
  {
   "cell_type": "code",
   "execution_count": 2,
   "metadata": {},
   "outputs": [],
   "source": [
    "from datasets import load_dataset\n",
    "dataset = load_dataset(\"dim/OpenOrca-ru-gpt4\")\n",
    "dataset = dataset['train']"
   ]
  },
  {
   "cell_type": "code",
   "execution_count": 3,
   "metadata": {},
   "outputs": [
    {
     "data": {
      "text/plain": [
       "Dataset({\n",
       "    features: ['id', 'system_prompt', 'question', 'response'],\n",
       "    num_rows: 819045\n",
       "})"
      ]
     },
     "execution_count": 3,
     "metadata": {},
     "output_type": "execute_result"
    }
   ],
   "source": [
    "dataset"
   ]
  }
 ],
 "metadata": {
  "kernelspec": {
   "display_name": "base",
   "language": "python",
   "name": "python3"
  },
  "language_info": {
   "codemirror_mode": {
    "name": "ipython",
    "version": 3
   },
   "file_extension": ".py",
   "mimetype": "text/x-python",
   "name": "python",
   "nbconvert_exporter": "python",
   "pygments_lexer": "ipython3",
   "version": "3.10.13"
  }
 },
 "nbformat": 4,
 "nbformat_minor": 2
}
